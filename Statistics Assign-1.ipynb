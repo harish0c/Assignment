{
 "cells": [
  {
   "cell_type": "markdown",
   "id": "3090d072",
   "metadata": {},
   "source": [
    "Problem Statement 1:\n",
    "The marks awarded for an assignment set for a Year 8 class of 20 students were as\n",
    "follows:\n",
    "6 7 5 7 7 8 7 6 9 7 4 10 6 8 8 9 5 6 4 8"
   ]
  },
  {
   "cell_type": "code",
   "execution_count": 1,
   "id": "ca6ace7c",
   "metadata": {},
   "outputs": [
    {
     "name": "stdout",
     "output_type": "stream",
     "text": [
      "The Average marks scored is 6.85\n",
      "The median of the marks is 7.0\n",
      "Most of the students scored 7\n",
      "The standard Deviation of the marks 1.5898113095584647\n"
     ]
    }
   ],
   "source": [
    "import numpy as np\n",
    "import statistics as st\n",
    "marks = [6,7,5,7,7,8,7,6,9,7,4,10,6,8,8,9,5,6,4,8]\n",
    "print(\"The Average marks scored is\",np.mean(marks))\n",
    "print(\"The median of the marks is\",np.median(marks))\n",
    "print(\"Most of the students scored\",st.mode(marks))\n",
    "print(\"The standard Deviation of the marks\",np.std(marks))"
   ]
  },
  {
   "cell_type": "markdown",
   "id": "7dbea443",
   "metadata": {},
   "source": [
    "Problem Statement 2:\n",
    "The number of calls from motorists per day for roadside service was recorded for a\n",
    "particular month:\n",
    "28, 122, 217, 130, 120, 86, 80, 90, 140, 120, 70, 40, 145, 113, 90, 68, 174, 194, 170,\n",
    "100, 75, 104, 97, 75,\n",
    "123, 100, 75, 104, 97, 75, 123, 100, 89, 120, 109"
   ]
  },
  {
   "cell_type": "code",
   "execution_count": 2,
   "id": "94a6fe3c",
   "metadata": {},
   "outputs": [
    {
     "name": "stdout",
     "output_type": "stream",
     "text": [
      "The Average calls received 107.51428571428572\n",
      "The median of calls is 100.0\n",
      "Mode of the calls 75\n",
      "The standard Deviation of the calls 38.77287080168403\n"
     ]
    }
   ],
   "source": [
    "import numpy as np\n",
    "import statistics as st\n",
    "calls = [28, 122, 217, 130, 120, 86, 80, 90, 140, 120, 70, 40, 145, 113, 90, 68, 174, 194, 170, 100, 75, 104, 97, 75, 123, 100, 75, 104, 97, 75, 123, 100, 89, 120, 109]\n",
    "print(\"The Average calls received\",np.mean(calls))\n",
    "print(\"The median of calls is\",np.median(calls))\n",
    "print(\"Mode of the calls\",st.mode(calls))\n",
    "print(\"The standard Deviation of the calls\",np.std(calls))"
   ]
  },
  {
   "cell_type": "markdown",
   "id": "2962afc4",
   "metadata": {},
   "source": [
    "Problem Statement 3:\n",
    "The number of times I go to the gym in weekdays, are given below along with its associated probability:\n",
    "x = 0, 1, 2, 3, 4, 5\n",
    "f(x) = 0.09, 0.15, 0.40, 0.25, 0.10, 0.01\n",
    "Calculate the mean no. of workouts in a week. Also evaluate the variance involved in it."
   ]
  },
  {
   "cell_type": "code",
   "execution_count": 3,
   "id": "ab8478db",
   "metadata": {},
   "outputs": [
    {
     "name": "stdout",
     "output_type": "stream",
     "text": [
      "Mean: 2.15\n",
      "Variance: 1.2275\n"
     ]
    }
   ],
   "source": [
    "import pandas as pd\n",
    "df = pd.DataFrame({\"x\": [0,1,2,3,4,5], \"f_x\" :[0.09,0.15,0.40,0.25,0.10,0.01]})\n",
    "df[\"x*f_x\"]=df[\"x\"]*df[\"f_x\"]\n",
    "df[\"mean\"] = df[\"x*f_x\"].sum(axis=0)\n",
    "mean=df[\"mean\"][0]\n",
    "print(\"Mean:\",mean)\n",
    "vari=(sum((df[\"x\"]**2)*df[\"f_x\"]))-((mean)**2)\n",
    "print(\"Variance:\",vari)"
   ]
  },
  {
   "cell_type": "markdown",
   "id": "1a3b321a",
   "metadata": {},
   "source": [
    "Problem Statement 4:\n",
    "Let the continuous random variable D denote the diameter of the hole drilled in an\n",
    "aluminum sheet. The target diameter to be achieved is 12.5mm. Random\n",
    "disturbances in the process often result in inaccuracy.\n",
    "Historical data shows that the distribution of D can be modelled by the PDF (𝑑) =\n",
    "20𝑒−20(𝑑−12.5), 𝑑 ≥ 12.5. If a part with diameter > 12.6 mm needs to be scrapped,\n",
    "what is the proportion of those parts? What is the CDF when the diameter is of 11\n",
    "mm? What is your conclusion regarding the proportion of scraps?"
   ]
  },
  {
   "cell_type": "code",
   "execution_count": 4,
   "id": "c65481e0",
   "metadata": {},
   "outputs": [],
   "source": [
    "from scipy.stats import norm\n",
    "import scipy.integrate as integrate\n",
    "import numpy as np"
   ]
  },
  {
   "cell_type": "code",
   "execution_count": 5,
   "id": "c497eaaa",
   "metadata": {},
   "outputs": [],
   "source": [
    "def pdf(d):\n",
    "    return 20*np.exp(-20*(d-12.5))"
   ]
  },
  {
   "cell_type": "code",
   "execution_count": 6,
   "id": "da5c2e7a",
   "metadata": {},
   "outputs": [
    {
     "data": {
      "text/plain": [
       "(0.8646647167633718, 9.599706771316849e-15)"
      ]
     },
     "execution_count": 6,
     "metadata": {},
     "output_type": "execute_result"
    }
   ],
   "source": [
    "integrate.quad(pdf,12.5,12.6)\n",
    "#quad is for simple integration function"
   ]
  },
  {
   "cell_type": "markdown",
   "id": "c0eb0cff",
   "metadata": {},
   "source": [
    "Here the proportion inbetween 12.5 and 12.6 is 0.86466 and 0.864 is the area covered by pdf inbetween 12.5 to 12.6 i.e. p(12.5<=x<12.6). We assume it to be 0. For which CDF=0"
   ]
  },
  {
   "cell_type": "markdown",
   "id": "29d42667",
   "metadata": {},
   "source": [
    "Problem Statement 5:\n",
    "A company manufactures LED bulbs with a faulty rate of 30%. If I randomly select 6\n",
    "chosen LEDs, what is the probability of having 2 faulty LEDs in my sample?\n",
    "Calculate the average value of this process. Also evaluate the standard deviation\n",
    "associated with it."
   ]
  },
  {
   "cell_type": "code",
   "execution_count": 7,
   "id": "3ace6930",
   "metadata": {},
   "outputs": [
    {
     "name": "stdout",
     "output_type": "stream",
     "text": [
      "Probability will be : 0.32413499999999995\n",
      "CDF will be : 0.74431\n"
     ]
    }
   ],
   "source": [
    "#Probability of getting faulty out of 6 trials\n",
    "from scipy.stats import binom\n",
    "import matplotlib.pyplot as plt\n",
    "import seaborn as sns\n",
    "probab=binom.pmf(k=2,n=6,p=0.3)\n",
    "print(\"Probability will be :\",probab)\n",
    "cdf=binom.cdf(k=2,n=6,p=0.3)\n",
    "print(\"CDF will be :\",cdf)"
   ]
  },
  {
   "cell_type": "code",
   "execution_count": 8,
   "id": "b7064b3b",
   "metadata": {},
   "outputs": [
    {
     "name": "stdout",
     "output_type": "stream",
     "text": [
      "Mean: 1.7999999999999998\n",
      "standard deviation: 1.1224972160321822\n"
     ]
    }
   ],
   "source": [
    "import numpy as np\n",
    "mean=6*0.3\n",
    "var=np.sqrt(6*0.3*0.7)\n",
    "print(\"Mean:\",mean)\n",
    "print(\"standard deviation:\",var)"
   ]
  },
  {
   "cell_type": "markdown",
   "id": "aca2dcf1",
   "metadata": {},
   "source": [
    "Gaurav and Barakha are both preparing for entrance exams. Gaurav attempts to\n",
    "solve 8 questions per day with a correction rate of 75%, while Barakha averages\n",
    "around 12 questions per day with a correction rate of 45%. What is the probability\n",
    "that each of them will solve 5 questions correctly? What happens in cases of 4 and 6\n",
    "correct solutions? What do you infer from it? What are the two main governing\n",
    "factors affecting their ability to solve questions correctly? Give a pictorial\n",
    "representation of the same to validate your answer"
   ]
  },
  {
   "cell_type": "code",
   "execution_count": 9,
   "id": "9ef892b3",
   "metadata": {},
   "outputs": [
    {
     "name": "stdout",
     "output_type": "stream",
     "text": [
      "Probability of each solving 5 questions correctly is:0.04619989057299213\n",
      "Probability of each solving 4,6 questions correctly is:0.018374956477894576\n"
     ]
    }
   ],
   "source": [
    "from scipy.stats import binom\n",
    "import numpy as np\n",
    "\n",
    "print(f\"Probability of each solving 5 questions correctly is:{binom.pmf(5,8,0.75)*binom.pmf(5,12,0.45)}\")\n",
    "print(f\"Probability of each solving 4,6 questions correctly is:{binom.pmf(4,8,0.75)*binom.pmf(6,12,0.45)}\")\n",
    "#their correction rates effect their combined probability"
   ]
  },
  {
   "cell_type": "code",
   "execution_count": 10,
   "id": "e1bf2af7",
   "metadata": {},
   "outputs": [],
   "source": [
    "import matplotlib.pyplot as plt\n",
    "def binom_plot(n,p,):\n",
    "    fig,ax=plt.subplots(1,1)\n",
    "    x = np.arange(binom.ppf(0.01, n, p),binom.ppf(0.99, n, p))\n",
    "    ax.plot(x, binom.pmf(x, n, p), 'bo', ms=8, label='binom pmf')\n",
    "    ax.vlines(x, 0, binom.pmf(x, n, p), colors='b', lw=5, alpha=0.5)"
   ]
  },
  {
   "cell_type": "code",
   "execution_count": 11,
   "id": "ff6a9521",
   "metadata": {},
   "outputs": [
    {
     "data": {
      "image/png": "[encoded data removed]",
      "text/plain": [
       "<Figure size 432x288 with 1 Axes>"
      ]
     },
     "metadata": {
      "needs_background": "light"
     },
     "output_type": "display_data"
    }
   ],
   "source": [
    "#Gaurav\n",
    "binom_plot(8,0.75)"
   ]
  },
  {
   "cell_type": "markdown",
   "id": "2a5e6d22",
   "metadata": {},
   "source": [
    "This shows that, Gaurav can do 6 problems with high correction rate"
   ]
  },
  {
   "cell_type": "code",
   "execution_count": 12,
   "id": "cde35044",
   "metadata": {},
   "outputs": [
    {
     "data": {
      "image/png": "[encoded data removed]",
      "text/plain": [
       "<Figure size 432x288 with 1 Axes>"
      ]
     },
     "metadata": {
      "needs_background": "light"
     },
     "output_type": "display_data"
    }
   ],
   "source": [
    "#Barakha\n",
    "binom_plot(12,0.45)"
   ]
  },
  {
   "cell_type": "markdown",
   "id": "ca3f41b8",
   "metadata": {},
   "source": [
    "This shows that, Bharakha can do 5 problems with high correction rate"
   ]
  },
  {
   "cell_type": "markdown",
   "id": "0726ad9e",
   "metadata": {},
   "source": [
    "Problem Statement 7:\n",
    "Customers arrive at a rate of 72 per hour to my shop. What is the probability of 𝑘\n",
    "customers arriving in 4 minutes? a) 5 customers, b) not more than 3 customers, c)\n",
    "more than 3 customers. Give a pictorial representation of the same to validate your\n",
    "answer."
   ]
  },
  {
   "cell_type": "code",
   "execution_count": 13,
   "id": "7367d324",
   "metadata": {},
   "outputs": [
    {
     "name": "stderr",
     "output_type": "stream",
     "text": [
      "C:\\ProgramData\\Anaconda3\\lib\\site-packages\\seaborn\\distributions.py:2557: FutureWarning: `distplot` is a deprecated function and will be removed in a future version. Please adapt your code to use either `displot` (a figure-level function with similar flexibility) or `histplot` (an axes-level function for histograms).\n",
      "  warnings.warn(msg, FutureWarning)\n"
     ]
    },
    {
     "data": {
      "text/plain": [
       "<AxesSubplot:ylabel='Density'>"
      ]
     },
     "execution_count": 13,
     "metadata": {},
     "output_type": "execute_result"
    },
    {
     "data": {
      "image/png": "[encoded data removed]",
      "text/plain": [
       "<Figure size 432x288 with 1 Axes>"
      ]
     },
     "metadata": {
      "needs_background": "light"
     },
     "output_type": "display_data"
    }
   ],
   "source": [
    "from scipy.stats import poisson\n",
    "import matplotlib.pyplot as plt\n",
    "import seaborn as sns\n",
    "poisson_data=poisson.rvs(mu=4.8,size=1000)\n",
    "sns.distplot(poisson_data,hist=True,kde=True,color=\"red\")"
   ]
  },
  {
   "cell_type": "code",
   "execution_count": 14,
   "id": "335b80d8",
   "metadata": {},
   "outputs": [
    {
     "name": "stdout",
     "output_type": "stream",
     "text": [
      "0.17474768364388296 0.14253921888902693\n"
     ]
    }
   ],
   "source": [
    "from scipy.stats import poisson\n",
    "probab1=poisson.pmf(k=5,mu=4.8)\n",
    "probab2=sum(poisson.pmf(k=[0,1,2],mu=4.8))\n",
    "print(probab1,probab2)"
   ]
  },
  {
   "cell_type": "code",
   "execution_count": 15,
   "id": "e6f818fc",
   "metadata": {},
   "outputs": [
    {
     "name": "stdout",
     "output_type": "stream",
     "text": [
      "The probability of arriving 5 cutomers in 4 minutes is : 0.17474768364388296\n",
      "The probability of arriving not more than 3 customers in 4 minutes is : 0.15169069760753714\n",
      "The Probability of more than 3 customers arriving in 4 minutes is : 0.7057700835034357\n"
     ]
    }
   ],
   "source": [
    "mu = 4*(72/60) #customers come per 4 minutes\n",
    "print(f\"The probability of arriving 5 cutomers in 4 minutes is : {poisson.pmf(k=5,mu=mu)}\")\n",
    "print(f\"The probability of arriving not more than 3 customers in 4 minutes is : {poisson.pmf(k=3, mu=mu)}\")\n",
    "print(f'The Probability of more than 3 customers arriving in 4 minutes is : {1-poisson.cdf(k=3,mu=mu)}')\n"
   ]
  },
  {
   "cell_type": "markdown",
   "id": "b8549901",
   "metadata": {},
   "source": [
    "Problem Statement 8:\n",
    "I work as a data analyst in Aeon Learning Pvt. Ltd. After analyzing data, I make reports, where I have the efficiency of entering 77 words per minute with 6 errors per hour. What is the probability that I will commit 2 errors in a 455-word financial report? What happens when the no. of words increases/decreases (in case of 1000 words, 255 words)?\n",
    "How is the 𝜆 affected?\n",
    "How does it influence the PMF?\n",
    "Give a pictorial representation of the same to validate your answer."
   ]
  },
  {
   "cell_type": "code",
   "execution_count": 16,
   "id": "e69e0f2e",
   "metadata": {},
   "outputs": [],
   "source": [
    "# Given for 77 words per minute 6 errors per hour\n",
    "from scipy.stats import poisson\n",
    "\n",
    "def get_mean(report_word,word_per_min=77,error_per_hour=6):\n",
    "    error_per_min = error_per_hour/60\n",
    "    completion_time_min = report_word/word_per_min\n",
    "    mean_error_word = error_per_min*completion_time_min\n",
    "    return mean_error_word"
   ]
  },
  {
   "cell_type": "code",
   "execution_count": 17,
   "id": "150e5998",
   "metadata": {},
   "outputs": [
    {
     "name": "stdout",
     "output_type": "stream",
     "text": [
      "0.5909090909090909\n",
      "1.2987012987012987\n",
      "0.3311688311688312\n"
     ]
    }
   ],
   "source": [
    "print(get_mean(455))\n",
    "print(get_mean(1000))\n",
    "print(get_mean(255))"
   ]
  },
  {
   "cell_type": "code",
   "execution_count": 18,
   "id": "26bc9e57",
   "metadata": {},
   "outputs": [
    {
     "name": "stdout",
     "output_type": "stream",
     "text": [
      "2 errors in a 455-word financial report 0.09669027375144444\n",
      "2 errors in a 1000-word financial report 0.23012815007300153\n",
      "2 errors in a 255-word financial report 0.039377135392854125\n"
     ]
    }
   ],
   "source": [
    "prob_2_error_of_455 = poisson.pmf(2,get_mean(455))\n",
    "print(\"2 errors in a 455-word financial report\",prob_2_error_of_455)\n",
    "prob_2_error_of_1000=poisson.pmf(2,get_mean(1000))\n",
    "print(\"2 errors in a 1000-word financial report\",prob_2_error_of_1000)\n",
    "prob_2_error_of_255=poisson.pmf(2,get_mean(255))\n",
    "print(\"2 errors in a 255-word financial report\",prob_2_error_of_255)"
   ]
  },
  {
   "cell_type": "code",
   "execution_count": 38,
   "id": "5fea4480",
   "metadata": {},
   "outputs": [
    {
     "data": {
      "text/plain": [
       "<matplotlib.collections.LineCollection at 0x1cce08237c0>"
      ]
     },
     "execution_count": 38,
     "metadata": {},
     "output_type": "execute_result"
    },
    {
     "data": {
      "image/png": "[encoded data removed]",
      "text/plain": [
       "<Figure size 1080x360 with 1 Axes>"
      ]
     },
     "metadata": {
      "needs_background": "light"
     },
     "output_type": "display_data"
    }
   ],
   "source": [
    "from scipy.stats import poisson\n",
    "unit_mu=0.1/77\n",
    "def mu(n):\n",
    "    return n * unit_mu\n",
    "x=range(100,1000,50)\n",
    "mu=[i*unit_mu for i in x]\n",
    "fig,ax = plt.subplots(1,1,figsize=(15,5))\n",
    "ax.plot(x,poisson.pmf(2,mu), linewidth=3, ms=8)\n",
    "ax.set(xlabel='Poisson Distribution', ylabel='Frequency')\n",
    "ax.vlines(x,0, poisson.pmf(2,mu), colors='skyblue',linestyles='solid',lw=5,alpha=0.5)"
   ]
  },
  {
   "cell_type": "markdown",
   "id": "40cb8623",
   "metadata": {},
   "source": [
    "#Error increases as number of words increases"
   ]
  },
  {
   "cell_type": "markdown",
   "id": "ac4158b9",
   "metadata": {},
   "source": [
    "Problem Statement 10:\n",
    "Please compute the following:\n",
    "a) P(Z > 1.26), . P(Z < −0.86), P(Z > −1.37), P(−1.25 < Z < 0.37), . P(Z ≤ −4.6)\n",
    "b) Find the value 𝑧 such that 𝑃(𝑍 > 𝑧) = 0.05\n",
    "c) Find the value of 𝑧 such that 𝑃(−𝑧 < 𝑍 < 𝑧) = 0.99"
   ]
  },
  {
   "cell_type": "code",
   "execution_count": 55,
   "id": "75ed71b7",
   "metadata": {},
   "outputs": [
    {
     "name": "stdout",
     "output_type": "stream",
     "text": [
      "a\n",
      "P(Z>1.26): 0.1038346811213004\n",
      "P(Z < −0.86): 0.1948945212518084\n",
      "P(Z > −1.37): 0.914656549178033\n",
      "P(−1.25 < Z < 0.37): 0.5386589811336914\n",
      "P(Z ≤ −4.6): 2.1124547024964357e-06\n",
      "b\n",
      "P(Z>z)=0.05 is 1.64\n",
      "c\n",
      "𝑃(−𝑧 < 𝑍 < 𝑧) = 0.99 is 2.58\n"
     ]
    }
   ],
   "source": [
    "import scipy.stats as st\n",
    "from scipy.stats import norm\n",
    "\n",
    "print(\"a\")\n",
    "print(\"P(Z>1.26):\",st.norm.sf(1.26))\n",
    "print(\"P(Z < −0.86):\",1-(st.norm.sf(-0.86)))\n",
    "print(\"P(Z > −1.37):\",st.norm.sf(-1.37))\n",
    "print(\"P(−1.25 < Z < 0.37):\",st.norm.sf(-1.25)-st.norm.sf(0.37))\n",
    "print(\"P(Z ≤ −4.6):\",1-st.norm.sf(-4.6))\n",
    "\n",
    "print(\"b\")\n",
    "print('P(Z>z)=0.05 is %.2f'%(-1*norm.ppf(0.05)))\n",
    "\n",
    "print(\"c\")\n",
    "print('𝑃(−𝑧 < 𝑍 < 𝑧) = 0.99 is %.2f'%(abs(norm.ppf(0.005))))"
   ]
  },
  {
   "cell_type": "markdown",
   "id": "bc15a6b5",
   "metadata": {},
   "source": [
    "Problem Statement 11:\n",
    "The current flow in a copper wire follow a normal distribution with a mean of 10 𝑚A\n",
    "and a variance of 4 (𝑚𝐴)2.\n",
    "What is the probability that a current measurement will exceed 13 𝑚𝐴? What is the\n",
    "probability that a current measurement is between 9 and 11mA? Determine the\n",
    "current measurement which has a probability of 0.98."
   ]
  },
  {
   "cell_type": "code",
   "execution_count": null,
   "id": "6bb44e8e",
   "metadata": {},
   "outputs": [],
   "source": []
  }
 ],
 "metadata": {
  "kernelspec": {
   "display_name": "Python 3",
   "language": "python",
   "name": "python3"
  },
  "language_info": {
   "codemirror_mode": {
    "name": "ipython",
    "version": 3
   },
   "file_extension": ".py",
   "mimetype": "text/x-python",
   "name": "python",
   "nbconvert_exporter": "python",
   "pygments_lexer": "ipython3",
   "version": "3.8.8"
  }
 },
 "nbformat": 4,
 "nbformat_minor": 5
}
