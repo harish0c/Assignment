{
 "cells": [
  {
   "cell_type": "markdown",
   "id": "d82cfd8e",
   "metadata": {},
   "source": [
    "# Problem Statement 1:\n",
    "Is gender independent of education level? A random sample of 395 people were\n",
    "surveyed and each person was asked to report the highest education level they\n",
    "obtained. The data that resulted from the survey is summarized in the following table:\n",
    "High School Bachelors Masters Ph.d. Total\n",
    "Female 60 54 46 41 201\n",
    "Male 40 44 53 57 194\n",
    "Total 100 98 99 98 395\n",
    "Question: Are gender and education level dependent at 5% level of significance? In\n",
    "other words, given the data collected above, is there a relationship between the\n",
    "gender of an individual and the level of education that they have obtained?"
   ]
  },
  {
   "cell_type": "markdown",
   "id": "4e71fadc",
   "metadata": {},
   "source": [
    "##### H0: education level doesn't depend on gender\n",
    "##### H1: education level do depend on gender"
   ]
  },
  {
   "cell_type": "code",
   "execution_count": 1,
   "id": "b7a2363f",
   "metadata": {},
   "outputs": [],
   "source": [
    "table = [[60,54,46,41],\n",
    "        [40,44,53,57]]"
   ]
  },
  {
   "cell_type": "code",
   "execution_count": 2,
   "id": "4b340e9c",
   "metadata": {},
   "outputs": [
    {
     "data": {
      "text/plain": [
       "(8.006066246262538,\n",
       " 0.045886500891747214,\n",
       " 3,\n",
       " array([[50.88607595, 49.86835443, 50.37721519, 49.86835443],\n",
       "        [49.11392405, 48.13164557, 48.62278481, 48.13164557]]))"
      ]
     },
     "execution_count": 2,
     "metadata": {},
     "output_type": "execute_result"
    }
   ],
   "source": [
    "from scipy import stats\n",
    "stats.chi2_contingency(table)"
   ]
  },
  {
   "cell_type": "code",
   "execution_count": 3,
   "id": "e230c295",
   "metadata": {},
   "outputs": [],
   "source": [
    "chi_score,p_value,dof,Expected_table = stats.chi2_contingency(table)"
   ]
  },
  {
   "cell_type": "code",
   "execution_count": 6,
   "id": "75ad3bdd",
   "metadata": {},
   "outputs": [
    {
     "name": "stdout",
     "output_type": "stream",
     "text": [
      "Chi Value: 8.006\n",
      "Degree of Freedom: 3\n",
      "P Value: 0.046\n"
     ]
    }
   ],
   "source": [
    "print(\"Chi Value:\",round(chi_score,3))\n",
    "print(\"Degree of Freedom:\",dof)\n",
    "print(\"P Value:\",round(p_value,3))"
   ]
  },
  {
   "cell_type": "code",
   "execution_count": 10,
   "id": "07424669",
   "metadata": {},
   "outputs": [
    {
     "name": "stdout",
     "output_type": "stream",
     "text": [
      "Critical value is 7.815\n",
      "\n",
      "8.006 > 7.815, Hence reject the null hypothesis and conclude that the education level depends on gender at a 5% level of significance.\n"
     ]
    }
   ],
   "source": [
    "alpha = 0.05\n",
    "p = 1-alpha\n",
    "cr=stats.chi2.ppf(p,dof)\n",
    "print(\"Critical value is\",round(cr,3))\n",
    "print(\"\\n8.006 > 7.815, Hence reject the null hypothesis and conclude that the education level depends on gender at a 5% level of significance.\")"
   ]
  },
  {
   "cell_type": "markdown",
   "id": "860f47d1",
   "metadata": {},
   "source": [
    "# Problem Statement 2:\n",
    "Using the following data, perform a oneway analysis of variance using α=.05. Write\n",
    "up the results in APA format.\n",
    "[Group1: 51, 45, 33, 45, 67]\n",
    "[Group2: 23, 43, 23, 43, 45]\n",
    "[Group3: 56, 76, 74, 87, 56]"
   ]
  },
  {
   "cell_type": "code",
   "execution_count": 20,
   "id": "eecd72f1",
   "metadata": {},
   "outputs": [
    {
     "name": "stdout",
     "output_type": "stream",
     "text": [
      "F Statistic value 9.747205503009463 , p-value 0.0030597541434430556\n",
      "True\n",
      "Here the p-value returned is 0.00305 which is < 0.05\n"
     ]
    }
   ],
   "source": [
    "g_1 = [51,45,33,45,67]\n",
    "g_2 = [23,43,23,43,45]\n",
    "g_3 = [56,76,74,87,56]\n",
    "\n",
    "\n",
    "\n",
    "statistic, pvalue = stats.f_oneway(g_1,g_2,g_3)\n",
    "print(\"F Statistic value {} , p-value {}\".format(statistic,pvalue))\n",
    "if pvalue < 0.05:\n",
    "    print('True')\n",
    "else:\n",
    "    print('False')\n",
    "\n",
    "print(\"Here the p-value returned is 0.00305 which is < 0.05\")"
   ]
  },
  {
   "cell_type": "markdown",
   "id": "c475755f",
   "metadata": {},
   "source": [
    "# Problem Statement 3:\n",
    "Calculate F Test for given 10, 20, 30, 40, 50 and 5,10,15, 20, 25.\n",
    "For 10, 20, 30, 40, 50:"
   ]
  },
  {
   "cell_type": "code",
   "execution_count": 21,
   "id": "8808a5bc",
   "metadata": {},
   "outputs": [],
   "source": [
    "a=[10,20,30,40,50]\n",
    "b=[5,10,15,20,25]"
   ]
  },
  {
   "cell_type": "code",
   "execution_count": 22,
   "id": "4f771462",
   "metadata": {},
   "outputs": [],
   "source": [
    "import numpy as np\n",
    "def f_test(a,b):\n",
    "    var_a = (np.std(a,ddof=1))**2\n",
    "    var_b = (np.std(b,ddof=1))**2\n",
    "    return var_a/var_b"
   ]
  },
  {
   "cell_type": "code",
   "execution_count": 23,
   "id": "b7725ac9",
   "metadata": {},
   "outputs": [
    {
     "data": {
      "text/plain": [
       "4.0"
      ]
     },
     "execution_count": 23,
     "metadata": {},
     "output_type": "execute_result"
    }
   ],
   "source": [
    "f_test(a,b)"
   ]
  },
  {
   "cell_type": "code",
   "execution_count": null,
   "id": "e691707c",
   "metadata": {},
   "outputs": [],
   "source": []
  }
 ],
 "metadata": {
  "kernelspec": {
   "display_name": "Python 3",
   "language": "python",
   "name": "python3"
  },
  "language_info": {
   "codemirror_mode": {
    "name": "ipython",
    "version": 3
   },
   "file_extension": ".py",
   "mimetype": "text/x-python",
   "name": "python",
   "nbconvert_exporter": "python",
   "pygments_lexer": "ipython3",
   "version": "3.8.8"
  }
 },
 "nbformat": 4,
 "nbformat_minor": 5
}
