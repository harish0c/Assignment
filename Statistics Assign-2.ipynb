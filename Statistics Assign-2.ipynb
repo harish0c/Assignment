{
 "cells": [
  {
   "cell_type": "markdown",
   "id": "1db05609",
   "metadata": {},
   "source": [
    "## 1) In each of the following situations, state whether it is a correctly stated hypothesis testing problem and why?\n",
    "1. 𝐻0: 𝜇 = 25, 𝐻1: 𝜇 ≠ 25\n",
    "2. 𝐻0: 𝜎 > 10, 𝐻1: 𝜎 = 10\n",
    "3. 𝐻0: 𝑥 = 50, 𝐻1: 𝑥 ≠ 50\n",
    "4. 𝐻0: 𝑝 = 0.1, 𝐻1: 𝑝 = 0.5\n",
    "5. 𝐻0: 𝑠 = 30, 𝐻1: 𝑠 > 30"
   ]
  },
  {
   "cell_type": "markdown",
   "id": "1c17d0d0",
   "metadata": {},
   "source": [
    "1)Yes,values are about population or distribution\n",
    "\n",
    "2)No, it has standard deviation claim, in which alternate hypothesis is comparing equality with greater than in null hypothesis.\n",
    "\n",
    "3)No, the value x is irrelavent\n",
    "\n",
    "4)No, the values are irrelavent in both null and alternate hypothesis\n",
    "\n",
    "5)No, it has only sample and does'nt have information about population or any distribution. null hypothesis has equality while alternate hypothesis has greater than which is irrelevant \n"
   ]
  },
  {
   "cell_type": "markdown",
   "id": "8739c1d7",
   "metadata": {},
   "source": [
    "## 2)The college bookstore tells prospective students that the average cost of its textbooks is Rs. 52 with a standard deviation of Rs. 4.50. A group of smart statistics students thinks that the average cost is higher. To test the bookstore’s claim against their alternative, the students will select a random sample of size 100. Assume that the mean from their random sample is Rs. 52.80. Perform a hypothesis test at the 5% level of significance and state your decision."
   ]
  },
  {
   "cell_type": "code",
   "execution_count": 1,
   "id": "f48dace0",
   "metadata": {},
   "outputs": [
    {
     "name": "stdout",
     "output_type": "stream",
     "text": [
      "Z score is:1.7777777777777715\n",
      "Critical region is -1.9599639845400545, 1.9599639845400545\n"
     ]
    }
   ],
   "source": [
    "from scipy.stats import norm\n",
    "import numpy as np\n",
    "import math\n",
    "import scipy.stats as stats\n",
    "from scipy.stats import chi2_contingency\n",
    "\n",
    "p_mean = 52\n",
    "p_std = 4.50\n",
    "n = 100\n",
    "sample_mean = 52.80\n",
    "\n",
    "SE = p_std/n**0.5\n",
    "Z = (sample_mean-p_mean)/SE\n",
    "print(f\"Z score is:{Z}\")\n",
    "alpha=0.05  #test_significance\n",
    "print(f\"Critical region is {norm.ppf(alpha/2)}, {-norm.ppf(alpha/2)}\")"
   ]
  },
  {
   "cell_type": "markdown",
   "id": "d50e14c0",
   "metadata": {},
   "source": [
    "Here Z-score < critical region, hence retain null hypothesis"
   ]
  },
  {
   "cell_type": "markdown",
   "id": "73c1d301",
   "metadata": {},
   "source": [
    "## 3)A certain chemical pollutant in the Genesee River has been constant for several years with mean μ = 34 ppm (parts per million) and standard deviation σ = 8 ppm. A group of factory representatives whose companies discharge liquids into the river is now claiming that they have lowered the average with improved filtration devices. A group of environmentalists will test to see if this is true at the 1% level of significance. Assume that their sample of size 50 gives a mean of 32.5 ppm. Perform a hypothesis test at the 1% level of significance and state your decision."
   ]
  },
  {
   "cell_type": "code",
   "execution_count": 2,
   "id": "7450c599",
   "metadata": {},
   "outputs": [],
   "source": [
    "from scipy import stats\n",
    "import numpy as np\n",
    "\n",
    "def test_score(sigma,n,mu,x_mean):\n",
    "    SE = sigma/np.sqrt(n)\n",
    "    z_stat = (x_mean-mu)/SE\n",
    "    return z_stat"
   ]
  },
  {
   "cell_type": "code",
   "execution_count": 3,
   "id": "6abd346d",
   "metadata": {},
   "outputs": [
    {
     "data": {
      "text/plain": [
       "-1.3258252147247767"
      ]
     },
     "execution_count": 3,
     "metadata": {},
     "output_type": "execute_result"
    }
   ],
   "source": [
    "z_score_2 = test_score(8,50,34,32.5)\n",
    "z_score_2"
   ]
  },
  {
   "cell_type": "code",
   "execution_count": 4,
   "id": "319e6803",
   "metadata": {},
   "outputs": [
    {
     "data": {
      "text/plain": [
       "2.5758293035489004"
      ]
     },
     "execution_count": 4,
     "metadata": {},
     "output_type": "execute_result"
    }
   ],
   "source": [
    "alpha = 0.01\n",
    "p=1-alpha/2\n",
    "z_critical_2=stats.norm.ppf(p)\n",
    "z_critical_2"
   ]
  },
  {
   "cell_type": "code",
   "execution_count": 5,
   "id": "368eae84",
   "metadata": {},
   "outputs": [],
   "source": [
    "def check_test(z_score,z_critical):\n",
    "    if z_score>z_critical:\n",
    "        print(\"Null Hypothesis Rejected\")\n",
    "    else:\n",
    "        print(\"Null Hypothesis Accepted\")"
   ]
  },
  {
   "cell_type": "code",
   "execution_count": 6,
   "id": "3bf2bacf",
   "metadata": {},
   "outputs": [
    {
     "name": "stdout",
     "output_type": "stream",
     "text": [
      "Null Hypothesis Accepted\n"
     ]
    }
   ],
   "source": [
    "check_test(abs(z_score_2), z_critical_2)"
   ]
  },
  {
   "cell_type": "markdown",
   "id": "79a61709",
   "metadata": {},
   "source": [
    "# 4) Based on population figures and other general information on the U.S. population, suppose it has been estimated that, on average, a family of four in the U.S. spends about $1135 annually on dental expenditures. Suppose further that a regional dental association wants to test to determine if this figure is accurate for their area of country. To test this, 22 families of 4 are randomly selected from the population in that area of the country and a log is kept of the family’s dental expenditure for one year. The resulting data are given below. Assuming, that dental expenditure is normally distributed in the population, use the data and an alpha of 0.5 to test the dental association’s hypothesis. 1008, 812, 1117, 1323, 1308, 1415, 831, 1021, 1287, 851, 930, 730, 699, 872, 913, 944, 954, 987, 1695, 995, 1003, 994"
   ]
  },
  {
   "cell_type": "code",
   "execution_count": 7,
   "id": "9d863452",
   "metadata": {},
   "outputs": [
    {
     "name": "stdout",
     "output_type": "stream",
     "text": [
      "t_Score is-2.070747228595759\n",
      "Critical Region is -0.6863519891164291 0.6863519891164291\n"
     ]
    }
   ],
   "source": [
    "data=[1008, 812, 1117, 1323, 1308, 1415, 831, 1021, 1287, 851, 930, 730, 699, 872, 913, 944, 954, 987, 1695, 995, 1003, 994]\n",
    "p_mean =1135\n",
    "sample_std = np.std(data)\n",
    "n=22\n",
    "sample_mean = np.sum(data,axis=0)/len(data)\n",
    "SE = sample_std/n**0.5\n",
    "alpha = 0.5\n",
    "test_1 = (sample_mean-p_mean)/SE\n",
    "print(f\"t_Score is{test_1}\")\n",
    "print(f\"Critical Region is {stats.t.ppf((alpha/2),df=21)} {stats.t.ppf(1-(alpha/2),df=21)}\")"
   ]
  },
  {
   "cell_type": "markdown",
   "id": "d7becd0a",
   "metadata": {},
   "source": [
    "Reject null hypothesis, since it lies within critical region"
   ]
  },
  {
   "cell_type": "markdown",
   "id": "60918c35",
   "metadata": {},
   "source": [
    "# 5)In a report prepared by the Economic Research Department of a major bank the Department manager maintains that the average annual family income on Metropolis is 48432. What do you conclude about the validity of the report if a random sample of 400 families shows and average income of 48,574 with a standard deviation of 2000?"
   ]
  },
  {
   "cell_type": "code",
   "execution_count": 8,
   "id": "5627f5fc",
   "metadata": {},
   "outputs": [
    {
     "name": "stdout",
     "output_type": "stream",
     "text": [
      "Z score is:1.42\n",
      "Critical region is -1.9599639845400545 1.9599639845400545\n"
     ]
    }
   ],
   "source": [
    "p_mean = 48432\n",
    "p_std = 2000\n",
    "n =400\n",
    "sample_mean =48574\n",
    "\n",
    "SE = p_std/n**0.5\n",
    "Z = (sample_mean-p_mean)/SE\n",
    "print(f\"Z score is:{Z}\")\n",
    "alpha=0.05\n",
    "print(f\"Critical region is {norm.ppf(alpha/2)} {-norm.ppf(alpha/2)}\")"
   ]
  },
  {
   "cell_type": "markdown",
   "id": "d0256763",
   "metadata": {},
   "source": [
    "z_score<critical_region, hence retain null hypothesis"
   ]
  },
  {
   "cell_type": "markdown",
   "id": "877571c3",
   "metadata": {},
   "source": [
    "# 6) Suppose that in past years the average price per square foot for warehouses in the United States has been 32.28. A national real estate investor wants to determine whether that figure has changed now. The investor hires a researcher who randomly samples 19 warehouses that are for sale across the United States and finds that the mean price per square foot is 31.67, with a standard deviation of 1.29. assume that the prices of warehouse footage are normally distributed in population. If the researcher uses a 5% level of significance, what statistical conclusion can be reached? What are the hypotheses?"
   ]
  },
  {
   "cell_type": "code",
   "execution_count": 9,
   "id": "8155a83d",
   "metadata": {},
   "outputs": [
    {
     "name": "stdout",
     "output_type": "stream",
     "text": [
      "t_score is -2.1\n",
      "Critical region is -2.1 2.1\n"
     ]
    }
   ],
   "source": [
    "p_mean =32.28\n",
    "n=19\n",
    "sample_mean =31.67\n",
    "sample_std =1.29\n",
    "alpha =0.05\n",
    "\n",
    "SE=sample_std/(n**0.5)\n",
    "t=(sample_mean-p_mean)/SE\n",
    "print(f\"t_score is {round((t),1)}\")\n",
    "print(f\"Critical region is {round(stats.t.ppf((alpha/2),df=18),1)} {-round(stats.t.ppf((alpha/2),df=18),1)}\")"
   ]
  },
  {
   "cell_type": "markdown",
   "id": "4e813ab3",
   "metadata": {},
   "source": [
    "Reject null, since t-score = critical region and it lies within the critical region"
   ]
  },
  {
   "cell_type": "markdown",
   "id": "2671b045",
   "metadata": {},
   "source": [
    "# 7) Fill in the blank spaces in the table and draw your conclusions from it."
   ]
  },
  {
   "cell_type": "markdown",
   "id": "efc6713c",
   "metadata": {},
   "source": [
    "48.5 <= x <= 51.5"
   ]
  },
  {
   "cell_type": "code",
   "execution_count": 10,
   "id": "7dc80e96",
   "metadata": {},
   "outputs": [
    {
     "name": "stdout",
     "output_type": "stream",
     "text": [
      "-4.427188724235731\n",
      "-0.6324555320336759\n",
      "Beta at Mu1 = 52 is : 0.2643\n"
     ]
    }
   ],
   "source": [
    "# For Beta at Mu = 52\n",
    "n = 10\n",
    "Sig =2.5\n",
    "Mu =52\n",
    "\n",
    "p11 = (48.5 - Mu)/(Sig/math.sqrt(n))\n",
    "print(p11)\n",
    "p12 = (51.5 - Mu)/(Sig/math.sqrt(n))\n",
    "print(p12)\n",
    "# As p12 > p11, so our z score lies in between these two p12 < z < p11.\n",
    "# Find probability at these z score\n",
    "P11 = 0\n",
    "P12 = 0.2643\n",
    "# now Beta = p12 - p11\n",
    "Beta11 = P12 - P11\n",
    "print(f\"Beta at Mu1 = 52 is : {Beta11}\")"
   ]
  },
  {
   "cell_type": "code",
   "execution_count": 11,
   "id": "409495ef",
   "metadata": {},
   "outputs": [
    {
     "name": "stdout",
     "output_type": "stream",
     "text": [
      "-2.5298221281347035\n",
      "1.2649110640673518\n",
      "Beta at Mu2 = 50.5 is : 0.1095\n"
     ]
    }
   ],
   "source": [
    "# For Beta at Mu2 = 50.5\n",
    "n = 10\n",
    "Sig =2.5\n",
    "Mu =50.5\n",
    "\n",
    "p13 = (48.5 - Mu)/(Sig/math.sqrt(n))\n",
    "print(p13)\n",
    "p14 = (51.5 - Mu)/(Sig/math.sqrt(n))\n",
    "print(p14)\n",
    "\n",
    "# so our z score lies in between these two p13 < z < p14.\n",
    "# Find probability at these z score\n",
    "P13 = 0.0057\n",
    "P14 = 0.8962\n",
    "# now Beta = p13 +(1 - p14)\n",
    "Beta12 = P13 +(1- P14)\n",
    "print(f\"Beta at Mu2 = 50.5 is : {Beta12}\")"
   ]
  },
  {
   "cell_type": "code",
   "execution_count": 12,
   "id": "9c7021f0",
   "metadata": {},
   "outputs": [],
   "source": [
    " #48 < x < 52"
   ]
  },
  {
   "cell_type": "code",
   "execution_count": 13,
   "id": "54521d3d",
   "metadata": {},
   "outputs": [
    {
     "name": "stdout",
     "output_type": "stream",
     "text": [
      "-5.059644256269407\n",
      "0.0\n",
      "Beta at Mu2 = 52 is : 0.1038\n"
     ]
    }
   ],
   "source": [
    "n2 = 10\n",
    "Sig =2.5\n",
    "Mu1 =52\n",
    "\n",
    "p21 = (48.0 - Mu1)/(Sig/math.sqrt(n2))\n",
    "print(p21)\n",
    "p22 = (52.0 - Mu1)/(Sig/math.sqrt(n2))\n",
    "print(p22)\n",
    "\n",
    "# As p22 > p21, so our z score lies in between these two p22 < z < p21.\n",
    "# Find probability at these z score\n",
    "P21 = 0\n",
    "P22 = 0.1038\n",
    "# now Beta = p22 - p21\n",
    "Beta21 = P22 - P21\n",
    "print(f\"Beta at Mu2 = 52 is : {Beta21}\")"
   ]
  },
  {
   "cell_type": "markdown",
   "id": "378e14ce",
   "metadata": {},
   "source": [
    "# Problem Statement 8:\n",
    "Find the t-score for a sample size of 16 taken from a population with mean 10 when\n",
    "the sample mean is 12 and the sample standard deviation is 1.5."
   ]
  },
  {
   "cell_type": "code",
   "execution_count": 14,
   "id": "04d186db",
   "metadata": {},
   "outputs": [
    {
     "name": "stdout",
     "output_type": "stream",
     "text": [
      "t_score is 5.3\n"
     ]
    }
   ],
   "source": [
    "# t_score\n",
    "n = 16\n",
    "p_mean = 10\n",
    "sample_mean =12\n",
    "sample_std =1.5\n",
    "\n",
    "SE = sample_std/(n**0.5)\n",
    "t = (sample_mean-p_mean)/SE\n",
    "print(f\"t_score is {round((t),1)}\")"
   ]
  },
  {
   "cell_type": "markdown",
   "id": "3fb4b123",
   "metadata": {},
   "source": [
    "# Problem Statement 9:\n",
    "Find the t-score below which we can expect 99% of sample means will fall if samples\n",
    "of size 16 are taken from a normally distributed population"
   ]
  },
  {
   "cell_type": "code",
   "execution_count": 15,
   "id": "06ebd562",
   "metadata": {},
   "outputs": [
    {
     "name": "stdout",
     "output_type": "stream",
     "text": [
      "t_score is 2.947\n"
     ]
    }
   ],
   "source": [
    "import scipy.stats as stats\n",
    "n= 16\n",
    "alpha=(1-0.99)/2\n",
    "tscor=stats.t.ppf(1-alpha,df=15)\n",
    "print(\"t_score is\",round(tscor,3))"
   ]
  },
  {
   "cell_type": "markdown",
   "id": "0107e47c",
   "metadata": {},
   "source": [
    "# Problem Statement 10:\n",
    "If a random sample of size 25 drawn from a normal population gives a mean of 60\n",
    "and a standard deviation of 4, find the range of t-scores where we can expect to find\n",
    "the middle 95% of all sample means. Compute the probability that (−𝑡0.05 <𝑡<𝑡0.10)."
   ]
  },
  {
   "cell_type": "code",
   "execution_count": 16,
   "id": "d74e2c74",
   "metadata": {},
   "outputs": [
    {
     "name": "stdout",
     "output_type": "stream",
     "text": [
      "Range is 61.651 58.349\n"
     ]
    }
   ],
   "source": [
    "n=25\n",
    "std=4\n",
    "mean=60\n",
    "alpha=(1-0.95)/2\n",
    "t_score=stats.t.ppf(1-alpha,df=24) #df-degree of freedom\n",
    "a=mean+t_score*(std/(n**0.5))\n",
    "b=mean-t_score*(std/(n**0.5))\n",
    "print(\"Range is\",round(a,3),round(b,3))\n"
   ]
  },
  {
   "cell_type": "code",
   "execution_count": 17,
   "id": "b676f8d6",
   "metadata": {},
   "outputs": [
    {
     "name": "stdout",
     "output_type": "stream",
     "text": [
      "probability that (−𝑡0.05 <𝑡<𝑡0.10) is 0.0591\n"
     ]
    }
   ],
   "source": [
    "p=(stats.t.cdf(0.1,df=24)-stats.t.cdf(-0.05,df=24))\n",
    "print(f\"probability that (−𝑡0.05 <𝑡<𝑡0.10) is\", '%.4f'%p)\n"
   ]
  },
  {
   "cell_type": "markdown",
   "id": "08a7a552",
   "metadata": {},
   "source": [
    "# Problem Statement 11:\n",
    "Two-tailed test for difference between two population means\n",
    "Is there evidence to conclude that the number of people travelling from Bangalore to\n",
    "Chennai is different from the number of people travelling from Bangalore to Hosur in\n",
    "a week, given the following:\n",
    "Population 1: Bangalore to Chennai n1 = 1200\n",
    "x1 = 452\n",
    "s1 = 212\n",
    "Population 2: Bangalore to Hosur n2 = 800\n",
    "x2 = 523\n",
    "s2 = 185"
   ]
  },
  {
   "cell_type": "markdown",
   "id": "f4147a54",
   "metadata": {},
   "source": [
    "####H0: mu1-mu2 =0\n",
    "####H1: mu1-mu2 != 0"
   ]
  },
  {
   "cell_type": "code",
   "execution_count": 18,
   "id": "1b28013e",
   "metadata": {},
   "outputs": [
    {
     "name": "stdout",
     "output_type": "stream",
     "text": [
      "Z_Score is -7.926\n",
      "Critical region is -1.96 1.96\n"
     ]
    }
   ],
   "source": [
    "n1 = 1200 \n",
    "x1 = 452\n",
    "s1 = 212\n",
    "n2 = 800\n",
    "x2 = 523\n",
    "s2 = 185\n",
    "s_1=s1**2\n",
    "s_2=s2**2\n",
    "alpha=0.05\n",
    "stde=((s_1/n1)+(s_2/n2))**0.5\n",
    "z_score=(x1-x2)/stde\n",
    "print(\"Z_Score is\", round(z_score,3))\n",
    "print(f\"Critical region is\", round(norm.ppf(alpha/2),3), round(-norm.ppf(alpha/2),3))"
   ]
  },
  {
   "cell_type": "code",
   "execution_count": 19,
   "id": "f0c6a8d8",
   "metadata": {},
   "outputs": [],
   "source": [
    "#Reject null(since alpha=5%). People travelling \"Bangalore to Chennai\" differs from people travelling \"Bangalore to Hosur\" in a week"
   ]
  },
  {
   "cell_type": "markdown",
   "id": "05d8ca71",
   "metadata": {},
   "source": [
    "# Problem Statement 12:\n",
    "Is there evidence to conclude that the number of people preferring Duracell battery is\n",
    "different from the number of people preferring Energizer battery, given the following:\n",
    "Population 1: Duracell\n",
    "n1 = 100\n",
    "x1 = 308\n",
    "s1 = 84\n",
    "Population 2: Energizer\n",
    "n2 = 100\n",
    "x2 = 254\n",
    "s2 = 67"
   ]
  },
  {
   "cell_type": "code",
   "execution_count": 20,
   "id": "636ee285",
   "metadata": {},
   "outputs": [
    {
     "name": "stdout",
     "output_type": "stream",
     "text": [
      "Z_Score is 5.026\n",
      "Critical region is -1.96 1.96\n",
      "\n",
      "Reject null(since alpha=5%), Concluding that the number of people preferring Duracell battery is different from the number of people preferring Energizer battery.\n"
     ]
    }
   ],
   "source": [
    "n1 = 100\n",
    "x1 = 308\n",
    "s1 = 84\n",
    "n2 = 100\n",
    "x2 = 254\n",
    "s2 = 67\n",
    "s_1=s1**2\n",
    "s_2=s2**2\n",
    "alpha=0.05\n",
    "SE=((s_1/n1)+(s_2/n2))**0.5\n",
    "z_score=(x1-x2)/SE\n",
    "print(\"Z_Score is\", round(z_score,3))\n",
    "print(\"Critical region is\", round(norm.ppf(alpha/2),3) ,round(-norm.ppf(alpha/2),3))\n",
    "print(\"\\nReject null(since alpha=5%), Concluding that the number of people preferring Duracell battery is different from the number of people preferring Energizer battery.\")"
   ]
  },
  {
   "cell_type": "markdown",
   "id": "938bd800",
   "metadata": {},
   "source": [
    "# Problem Statement 13:\n",
    "Pooled estimate of the population variance\n",
    "Does the data provide sufficient evidence to conclude that average percentage\n",
    "increase in the price of sugar differs when it is sold at two different prices?\n",
    "Population 1: Price of sugar = Rs. 27.50 n1 = 14\n",
    "x1 = 0.317%\n",
    "s1 = 0.12%\n",
    "Population 2: Price of sugar = Rs. 20.00 n2 = 9\n",
    "x2 = 0.21%\n",
    "s2 = 0.11%"
   ]
  },
  {
   "cell_type": "markdown",
   "id": "5ef451b4",
   "metadata": {},
   "source": [
    "##### H0 : mu1 = mu2\n",
    "##### H1 : mu1 != mu2"
   ]
  },
  {
   "cell_type": "code",
   "execution_count": 21,
   "id": "f236d77b",
   "metadata": {},
   "outputs": [
    {
     "name": "stdout",
     "output_type": "stream",
     "text": [
      "T_score is 0.393\n",
      "Critical Region is 1.721\n",
      "\n",
      "Accept Null, concluding that average percentage increase in the price of sugar doesn't differ when it is sold at two different prices\n"
     ]
    }
   ],
   "source": [
    "n1 = 14 \n",
    "x1 = 0.317\n",
    "s1 = 0.12 \n",
    "n2 = 9 \n",
    "x2 = 0.21 \n",
    "s2 = 0.11\n",
    "s_1=s1**2\n",
    "s_2=s2**2\n",
    "s=((n1-1)*s_1)+((n2-1)*s_2)\n",
    "n=(n1+n2-2)\n",
    "se=(s/n)**0.5\n",
    "n_1=((1/n1)+(1/n2))**0.5\n",
    "t_score=(x1-x2)/se*n_1\n",
    "cr= stats.t.ppf(1-0.05,df=n)\n",
    "\n",
    "print(\"T_score is\", round(t_score,3))\n",
    "print(\"Critical Region is\",round(cr,3))\n",
    "print(\"\\nAccept Null, concluding that average percentage increase in the price of sugar doesn't differ when it is sold at two different prices\")"
   ]
  },
  {
   "cell_type": "markdown",
   "id": "11e7570c",
   "metadata": {},
   "source": [
    "# Problem Statement 14:\n",
    "The manufacturers of compact disk players want to test whether a small price\n",
    "reduction is enough to increase sales of their product. Is there evidence that the\n",
    "small price reduction is enough to increase sales of compact disk players?\n",
    "Population 1: Before reduction\n",
    "n1 = 15\n",
    "x1 = Rs. 6598 s1 = Rs. 844\n",
    "Population 2: After reduction n2 = 12\n",
    "x2 = RS. 6870\n",
    "s2 = Rs. 669"
   ]
  },
  {
   "cell_type": "code",
   "execution_count": 22,
   "id": "f7d08602",
   "metadata": {},
   "outputs": [
    {
     "name": "stdout",
     "output_type": "stream",
     "text": [
      "T_score is -0.136\n",
      "Critical Region is -1.708\n",
      "\n",
      "Accept null, a small price reduction is not enough to increase sales of their product\n"
     ]
    }
   ],
   "source": [
    "n1 = 15 \n",
    "x1 = 6598 \n",
    "s1 = 844 \n",
    "n2 = 12 \n",
    "x2 = 6870 \n",
    "s2 = 669\n",
    "s_1=s1**2\n",
    "s_2=s2**2\n",
    "\n",
    "s=((n1-1)*s_1)+((n2-1)*s_2)\n",
    "n=(n1+n2-2)\n",
    "se=(s/n)**0.5\n",
    "n_1=((1/n1)+(1/n2))**0.5\n",
    "t_score=(x1-x2)/se*n_1\n",
    "cr=stats.t.ppf(0.05,df=n)\n",
    "\n",
    "print(\"T_score is\", round(t_score,3))\n",
    "print(\"Critical Region is\", round(cr,3))\n",
    "print(\"\\nAccept null, a small price reduction is not enough to increase sales of their product\")"
   ]
  },
  {
   "cell_type": "markdown",
   "id": "b5702c0d",
   "metadata": {},
   "source": [
    "# Problem Statement 15:\n",
    "Comparisons of two population proportions when the hypothesized difference is zero.\n",
    "Carry out a two-tailed test of the equality of banks’ share of the car loan market in\n",
    "1980 and 1995.\n",
    "Population 1: 1980\n",
    "n1 = 1000\n",
    "x1 = 53\n",
    "𝑝 1 = 0.53\n",
    "Population 2: 1985\n",
    "n2 = 100\n",
    "x2 = 43\n",
    "𝑝 2= 0.53"
   ]
  },
  {
   "cell_type": "code",
   "execution_count": 23,
   "id": "fd2dafd1",
   "metadata": {},
   "outputs": [],
   "source": [
    "#population 1 = 1980\n",
    "n1=1000\n",
    "x1 = 53\n",
    "p_1 = 0.53\n",
    "\n",
    "#population 2:1985\n",
    "n2 = 100\n",
    "x2 = 43\n",
    "p_2 = 0.53"
   ]
  },
  {
   "cell_type": "markdown",
   "id": "8d1e88ae",
   "metadata": {},
   "source": [
    "#### For population proportion comparison when hypothesized difference is 0:\n",
    "\n",
    "##### H0: p1-p2 = 0\n",
    "##### H1: p1-p2!= 0"
   ]
  },
  {
   "cell_type": "code",
   "execution_count": 24,
   "id": "f71c2855",
   "metadata": {},
   "outputs": [],
   "source": [
    "def get_zscore(x1,x2,p_1,p_2,n1,n2,D=0): #D = diff in population proportion\n",
    "    p = (x1+x2)/(n1+n2)\n",
    "    numerator = (p_1-p_2)-D\n",
    "    denominator = np.sqrt(p*(1-p)*(1/n1 + 1/n2))\n",
    "    z_value = numerator/denominator\n",
    "    return z_value"
   ]
  },
  {
   "cell_type": "code",
   "execution_count": 25,
   "id": "3e6268bf",
   "metadata": {},
   "outputs": [
    {
     "data": {
      "text/plain": [
       "0.0"
      ]
     },
     "execution_count": 25,
     "metadata": {},
     "output_type": "execute_result"
    }
   ],
   "source": [
    "z_value=get_zscore(x1,x2,p_1,p_2,n1,n2)\n",
    "z_value"
   ]
  },
  {
   "cell_type": "code",
   "execution_count": 26,
   "id": "35ec4198",
   "metadata": {},
   "outputs": [
    {
     "name": "stdout",
     "output_type": "stream",
     "text": [
      "z_crticial 1.96\n"
     ]
    }
   ],
   "source": [
    "alpha = 0.05\n",
    "p=1-alpha/2\n",
    "z_crticial=stats.norm.ppf(p)\n",
    "print(\"z_crticial\",round(z_crticial,3))"
   ]
  },
  {
   "cell_type": "code",
   "execution_count": 27,
   "id": "3be3bbea",
   "metadata": {},
   "outputs": [
    {
     "name": "stdout",
     "output_type": "stream",
     "text": [
      "Null Hypothesis Accepted\n",
      "\n",
      "Can't reject null hypothesis at alpha=10%\n"
     ]
    }
   ],
   "source": [
    "if z_value>z_crticial:\n",
    "    print(\"Null Hypothesis Rejected\")\n",
    "else:\n",
    "    print(\"Null Hypothesis Accepted\")\n",
    "    \n",
    "print(\"\\nCan't reject null hypothesis at alpha=10%\")"
   ]
  },
  {
   "cell_type": "markdown",
   "id": "49a64458",
   "metadata": {},
   "source": [
    "# Problem Statement 16:\n",
    "Carry out a one-tailed test to determine whether the population proportion of\n",
    "traveler’s check buyers who buy at least $2500 in checks when sweepstakes prizes\n",
    "are offered as at least 10% higher than the proportion of such buyers when no\n",
    "sweepstakes are on.\n",
    "Population 1: With sweepstakes\n",
    "n1 = 300\n",
    "x1 = 120\n",
    "𝑝 = 0.40\n",
    "Population 2: No sweepstakes n2 = 700\n",
    "x2 = 140\n",
    "𝑝 2= 0.20"
   ]
  },
  {
   "cell_type": "code",
   "execution_count": 28,
   "id": "d29753bb",
   "metadata": {},
   "outputs": [
    {
     "name": "stdout",
     "output_type": "stream",
     "text": [
      "Z_score is 3.304\n",
      "Critical region is 1.645\n",
      "\n",
      "Reject null hypothesis at alpha=5%\n"
     ]
    }
   ],
   "source": [
    "n1 = 300 \n",
    "x1 = 120 \n",
    "𝑝1 = 0.40  \n",
    "n2 = 700 \n",
    "x2 = 140 \n",
    "𝑝2= 0.20\n",
    "p=(x1+x2)/(n1+n2)\n",
    "\n",
    "n=(1/n1)+(1/n2)\n",
    "p_1=p*(1-p)\n",
    "Z=(p1-p2-0.1)/((p_1*n)**0.5)\n",
    "cr=-norm.ppf(0.05)\n",
    "print(\"Z_score is\",round(Z,3))\n",
    "print(f\"Critical region is\",round(cr,3))\n",
    "print(\"\\nReject null hypothesis at alpha=5%\")"
   ]
  },
  {
   "cell_type": "markdown",
   "id": "c8c47528",
   "metadata": {},
   "source": [
    "# Problem Statement 17:\n",
    "A die is thrown 132 times with the following results: Number turned up: 1, 2, 3, 4, 5, 6\n",
    "Frequency: 16, 20, 25, 14, 29, 28\n",
    "Is the die unbiased? Consider the degrees of freedom as 𝑝 − ."
   ]
  },
  {
   "cell_type": "markdown",
   "id": "855ce625",
   "metadata": {},
   "source": [
    "##### H0: die are unbiased i.e. (O-E) = 0\n",
    "##### H1 : die are biased i.e.  (O-E) != 0"
   ]
  },
  {
   "cell_type": "code",
   "execution_count": 29,
   "id": "1f4cf416",
   "metadata": {},
   "outputs": [
    {
     "data": {
      "text/plain": [
       "[22.0, 22.0, 22.0, 22.0, 22.0, 22.0]"
      ]
     },
     "execution_count": 29,
     "metadata": {},
     "output_type": "execute_result"
    }
   ],
   "source": [
    "# for die to be unbiased every number must come equal time\n",
    "n=132\n",
    "value = [1,2,3,4,5,6]\n",
    "O = [16,20,25,14,29,28]\n",
    "E_val = n/len(value)\n",
    "E = [E_val for _ in range(len(value))]\n",
    "E"
   ]
  },
  {
   "cell_type": "code",
   "execution_count": 30,
   "id": "1b031b7c",
   "metadata": {},
   "outputs": [],
   "source": [
    "def get_chisquare(O,E):\n",
    "    val = 0\n",
    "    for i in range(len(O)):\n",
    "        val += ((O[i]-E[i])**2)/E[i]\n",
    "    return val"
   ]
  },
  {
   "cell_type": "code",
   "execution_count": 31,
   "id": "b338638f",
   "metadata": {},
   "outputs": [
    {
     "data": {
      "text/plain": [
       "9.0"
      ]
     },
     "execution_count": 31,
     "metadata": {},
     "output_type": "execute_result"
    }
   ],
   "source": [
    "chi_value=get_chisquare(O,E)\n",
    "chi_value"
   ]
  },
  {
   "cell_type": "code",
   "execution_count": 32,
   "id": "b90d950e",
   "metadata": {},
   "outputs": [
    {
     "data": {
      "text/plain": [
       "11.070497693516351"
      ]
     },
     "execution_count": 32,
     "metadata": {},
     "output_type": "execute_result"
    }
   ],
   "source": [
    "alpha = 0.05\n",
    "p= 1-alpha\n",
    "df = len(O)-1\n",
    "critical_chi=stats.chi2.ppf(p,df)\n",
    "critical_chi"
   ]
  },
  {
   "cell_type": "code",
   "execution_count": 33,
   "id": "6753fd49",
   "metadata": {},
   "outputs": [
    {
     "name": "stdout",
     "output_type": "stream",
     "text": [
      "Hypothesis Accepted\n",
      "Dies are unbiased\n"
     ]
    }
   ],
   "source": [
    "if (chi_value<critical_chi):\n",
    "    print(\"Hypothesis Accepted\")\n",
    "else:\n",
    "    print(\"Hypothesis Rejected\")\n",
    "print('Dies are unbiased')"
   ]
  },
  {
   "attachments": {
    "image.png": {
     "image/png": "[encoded data removed]"
    }
   },
   "cell_type": "markdown",
   "id": "d2f78d75",
   "metadata": {},
   "source": [
    "# Problem Statement 18:\n",
    "In a certain town, there are about one million eligible voters. A simple random\n",
    "sample of 10,000 eligible voters was chosen to study the relationship between\n",
    "gender and participation in the last election. The results are summarized in the\n",
    "following 2X2 (read two by two) contingency table:\n",
    "![image.png](attachment:image.png)\n",
    "\n",
    "We would want to check whether being a man or a woman (columns) is independent of\n",
    "having voted in the last election (rows). In other words, is “gender and voting independent”?"
   ]
  },
  {
   "cell_type": "markdown",
   "id": "31b06cf4",
   "metadata": {},
   "source": [
    "##### H0: gender is independent of having voted\n",
    "##### H1: gender is dependent of having voted"
   ]
  },
  {
   "cell_type": "code",
   "execution_count": 34,
   "id": "e4fcbc88",
   "metadata": {},
   "outputs": [
    {
     "data": {
      "text/plain": [
       "[[2792, 3591], [1486, 2131]]"
      ]
     },
     "execution_count": 34,
     "metadata": {},
     "output_type": "execute_result"
    }
   ],
   "source": [
    "table =[[2792,3591],\n",
    "       [1486,2131]]\n",
    "table"
   ]
  },
  {
   "cell_type": "code",
   "execution_count": 35,
   "id": "a530e4f1",
   "metadata": {},
   "outputs": [
    {
     "name": "stdout",
     "output_type": "stream",
     "text": [
      "dof:1 and stat:6.552337973968181\n"
     ]
    }
   ],
   "source": [
    "stat, p, dof, expected = stats.chi2_contingency(table)\n",
    "print('dof:{} and stat:{}'.format(dof,stat))"
   ]
  },
  {
   "cell_type": "code",
   "execution_count": 36,
   "id": "387bd900",
   "metadata": {},
   "outputs": [
    {
     "name": "stdout",
     "output_type": "stream",
     "text": [
      "Critical value: 3.841458820694124\n",
      "\n",
      "Reject null hypothesis.It is not gender and voting independent\n"
     ]
    }
   ],
   "source": [
    "alpha = 0.05\n",
    "p = 1-alpha\n",
    "critical = stats.chi2.ppf(p, dof)\n",
    "print(\"Critical value:\",critical)\n",
    "print(\"\\nReject null hypothesis.It is not gender and voting independent\")"
   ]
  },
  {
   "cell_type": "code",
   "execution_count": null,
   "id": "e46174e1",
   "metadata": {},
   "outputs": [],
   "source": []
  },
  {
   "cell_type": "markdown",
   "id": "70535924",
   "metadata": {},
   "source": [
    "# Problem Statement 19:\n",
    "A sample of 100 voters are asked which of four candidates they would vote for in an\n",
    "election. The number supporting each candidate is given below:\n",
    "Do the data suggest that all candidates are equally popular? [Chi-Square = 14.96,\n",
    "with 3 df, 𝑝 0.05 ."
   ]
  },
  {
   "cell_type": "markdown",
   "id": "c5df05c8",
   "metadata": {},
   "source": [
    "##### H0: candidates are equally popular\n",
    "##### H1: candidates are not equally popular "
   ]
  },
  {
   "cell_type": "code",
   "execution_count": 37,
   "id": "61c5116e",
   "metadata": {},
   "outputs": [
    {
     "name": "stdout",
     "output_type": "stream",
     "text": [
      "Chi Square value is 14.959999999999999\n"
     ]
    }
   ],
   "source": [
    "obs=[41,19,24,16]\n",
    "exp=[25,25,25,25]\n",
    "result=stats.chisquare(obs,exp)\n",
    "print(\"Chi Square value is\",result[0])"
   ]
  },
  {
   "cell_type": "code",
   "execution_count": 38,
   "id": "7acb22bc",
   "metadata": {},
   "outputs": [
    {
     "name": "stdout",
     "output_type": "stream",
     "text": [
      "Critical value is 7.815\n",
      "\n",
      "Reject null hypothesis. All candidates are not equally popular\n"
     ]
    }
   ],
   "source": [
    "df = len(obs)-1\n",
    "alpha = 0.05\n",
    "p=1-alpha\n",
    "critical = stats.chi2.ppf(p,df)\n",
    "print(\"Critical value is\",round(critical,3))\n",
    "print(\"\\nReject null hypothesis. All candidates are not equally popular\")"
   ]
  },
  {
   "attachments": {
    "image.png": {
     "image/png": "[encoded data removed]"
    }
   },
   "cell_type": "markdown",
   "id": "3fd8db15",
   "metadata": {},
   "source": [
    "# Problem Statement 20:\n",
    "Children of three ages are asked to indicate their preference for three photographs of\n",
    "adults. Do the data suggest that there is a significant relationship between age and\n",
    "photograph preference? What is wrong with this study? [Chi-Square = 29.6, with 4\n",
    "df: 𝑝 < 0.05]. ![image.png](attachment:image.png)"
   ]
  },
  {
   "cell_type": "markdown",
   "id": "9674b433",
   "metadata": {},
   "source": [
    "##### H0: no significant relationship between age and photograph\n",
    "##### H1:significant relationship between age and photograph"
   ]
  },
  {
   "cell_type": "code",
   "execution_count": 39,
   "id": "95f54384",
   "metadata": {},
   "outputs": [
    {
     "data": {
      "text/plain": [
       "[[18, 22, 20], [2, 28, 40], [20, 10, 40]]"
      ]
     },
     "execution_count": 39,
     "metadata": {},
     "output_type": "execute_result"
    }
   ],
   "source": [
    "table =[[18,22,20],\n",
    "       [2,28,40],\n",
    "       [20,10,40]]\n",
    "table"
   ]
  },
  {
   "cell_type": "code",
   "execution_count": 40,
   "id": "eb362a1c",
   "metadata": {},
   "outputs": [
    {
     "name": "stdout",
     "output_type": "stream",
     "text": [
      "dof:4 and stat:29.603174603174608\n"
     ]
    }
   ],
   "source": [
    "stat, p, dof, expected = stats.chi2_contingency(table)\n",
    "print('dof:{} and stat:{}'.format(dof,stat))"
   ]
  },
  {
   "cell_type": "code",
   "execution_count": 41,
   "id": "5753c473",
   "metadata": {},
   "outputs": [
    {
     "name": "stdout",
     "output_type": "stream",
     "text": [
      "Critical value is 9.488\n",
      "\n",
      "Reject null hypothesis.There is significant relationship b/w age and photograph preference\n"
     ]
    }
   ],
   "source": [
    "alpha = 0.05\n",
    "p = 1-alpha\n",
    "critical = stats.chi2.ppf(p, dof)\n",
    "print(\"Critical value is\",round(critical,3))\n",
    "print(\"\\nReject null hypothesis.There is significant relationship b/w age and photograph preference\")"
   ]
  },
  {
   "attachments": {
    "image.png": {
     "image/png": "[encoded data removed]"
    }
   },
   "cell_type": "markdown",
   "id": "76ec3ce1",
   "metadata": {},
   "source": [
    "# Problem Statement 21:\n",
    "A study of conformity using the Asch paradigm involved two conditions: one where\n",
    "one confederate supported the true judgement and another where no confederate\n",
    "gave the correct response.\n",
    "![image.png](attachment:image.png)\n",
    "Is there a significant difference between the \"support\" and \"no support\" conditions in the\n",
    "frequency with which individuals are likely to conform? [Chi-Square = 19.87, with 1 df:\n",
    "𝑝 < 0.05]."
   ]
  },
  {
   "cell_type": "markdown",
   "id": "ddc0ef95",
   "metadata": {},
   "source": [
    "##### H0: no significant difference in support and no support\n",
    "##### H1: signigicant difference in support and no support"
   ]
  },
  {
   "cell_type": "code",
   "execution_count": 42,
   "id": "e403d295",
   "metadata": {},
   "outputs": [
    {
     "data": {
      "text/plain": [
       "[[18, 40], [32, 10]]"
      ]
     },
     "execution_count": 42,
     "metadata": {},
     "output_type": "execute_result"
    }
   ],
   "source": [
    "table =[[18,40],\n",
    "       [32,10]]\n",
    "table"
   ]
  },
  {
   "cell_type": "code",
   "execution_count": 43,
   "id": "12b947dd",
   "metadata": {},
   "outputs": [
    {
     "name": "stdout",
     "output_type": "stream",
     "text": [
      "dof:1 and stat:18.10344827586207\n"
     ]
    }
   ],
   "source": [
    "stat, p, dof, expected = stats.chi2_contingency(table)\n",
    "print('dof:{} and stat:{}'.format(dof,stat))"
   ]
  },
  {
   "cell_type": "code",
   "execution_count": 44,
   "id": "891656eb",
   "metadata": {},
   "outputs": [
    {
     "name": "stdout",
     "output_type": "stream",
     "text": [
      "Critical value is 3.841\n",
      "\n",
      "Reject null hypoythesis.There is significant difference between the 'support' and 'no support' conditions\n"
     ]
    }
   ],
   "source": [
    "alpha = 0.05\n",
    "p = 1-alpha\n",
    "critical = stats.chi2.ppf(p, dof)\n",
    "print(\"Critical value is\",round(critical,3))\n",
    "print(\"\\nReject null hypoythesis.There is significant difference between the 'support' and 'no support' conditions\")"
   ]
  },
  {
   "attachments": {
    "image.png": {
     "image/png": "[encoded data removed]"
    }
   },
   "cell_type": "markdown",
   "id": "6309febd",
   "metadata": {},
   "source": [
    "# Problem Statement 22:\n",
    "We want to test whether short people differ with respect to their leadership qualities\n",
    "(Genghis Khan, Adolf Hitler and Napoleon were all stature-deprived, and how many midget\n",
    "MP's are there?) The following table shows the frequencies with which 43 short people and\n",
    "52 tall people were categorized as \"leaders\", \"followers\" or as \"unclassifiable\". Is there a\n",
    "relationship between height and leadership qualities?\n",
    "[Chi-Square = 10.71, with 2 df: 𝑝 < 0.01].\n",
    "![image.png](attachment:image.png)"
   ]
  },
  {
   "cell_type": "markdown",
   "id": "aa136e05",
   "metadata": {},
   "source": [
    "##### H0: no relationship in between height and leadership quality\n",
    "##### H1: relationship in between height and leadership quality\n"
   ]
  },
  {
   "cell_type": "code",
   "execution_count": 45,
   "id": "3eaaf1fc",
   "metadata": {},
   "outputs": [
    {
     "data": {
      "text/plain": [
       "[[12, 32], [22, 14], [9, 6]]"
      ]
     },
     "execution_count": 45,
     "metadata": {},
     "output_type": "execute_result"
    }
   ],
   "source": [
    "table =[[12,32],\n",
    "       [22,14],\n",
    "       [9,6]]\n",
    "table"
   ]
  },
  {
   "cell_type": "code",
   "execution_count": 46,
   "id": "363e764b",
   "metadata": {},
   "outputs": [
    {
     "name": "stdout",
     "output_type": "stream",
     "text": [
      "dof:2 and stat:10.712198008709638\n"
     ]
    }
   ],
   "source": [
    "stat, p, dof, expected = stats.chi2_contingency(table)\n",
    "print('dof:{} and stat:{}'.format(dof,stat))"
   ]
  },
  {
   "cell_type": "code",
   "execution_count": 47,
   "id": "aa0f7d63",
   "metadata": {},
   "outputs": [
    {
     "name": "stdout",
     "output_type": "stream",
     "text": [
      "Critical value is 9.21\n",
      "\n",
      "Accept null hypothesis.No relationship between height and leadership qualities\n"
     ]
    }
   ],
   "source": [
    "alpha = 0.01\n",
    "p = 1-alpha\n",
    "critical = stats.chi2.ppf(p, dof)\n",
    "print(\"Critical value is\",round(critical,3))\n",
    "print(\"\\nAccept null hypothesis.No relationship between height and leadership qualities\")"
   ]
  },
  {
   "attachments": {
    "image.png": {
     "image/png": "[encoded data removed]"
    }
   },
   "cell_type": "markdown",
   "id": "b71155df",
   "metadata": {},
   "source": [
    "# Problem Statement 23:\n",
    "Each respondent in the Current Population Survey of March 1993 was classified as\n",
    "employed, unemployed, or outside the labor force. The results for men in California age 35-\n",
    "44 can be cross-tabulated by marital status, as follows:\n",
    "![image.png](attachment:image.png)\n",
    "Men of different marital status seem to have different distributions of labor force status. Or is\n",
    "this just chance variation? (you may assume the table results from a simple random\n",
    "sample.)"
   ]
  },
  {
   "cell_type": "markdown",
   "id": "918625a1",
   "metadata": {},
   "source": [
    "##### H0: No relationship between married status and employment status\n",
    "##### H1: Relationship between married status and employment status"
   ]
  },
  {
   "cell_type": "code",
   "execution_count": 48,
   "id": "e3ce4e2e",
   "metadata": {},
   "outputs": [
    {
     "data": {
      "text/plain": [
       "[[679, 103, 114], [63, 10, 20], [42, 18, 25]]"
      ]
     },
     "execution_count": 48,
     "metadata": {},
     "output_type": "execute_result"
    }
   ],
   "source": [
    "table =[[679,103,114],\n",
    "       [63,10,20],\n",
    "       [42,18,25]]\n",
    "table"
   ]
  },
  {
   "cell_type": "code",
   "execution_count": 49,
   "id": "ed99a0e2",
   "metadata": {},
   "outputs": [
    {
     "name": "stdout",
     "output_type": "stream",
     "text": [
      "dof:4 and stat:31.61310319407798\n"
     ]
    }
   ],
   "source": [
    "stat, p, dof, expected = stats.chi2_contingency(table)\n",
    "print('dof:{} and stat:{}'.format(dof,stat))"
   ]
  },
  {
   "cell_type": "code",
   "execution_count": 50,
   "id": "5a6eddac",
   "metadata": {},
   "outputs": [
    {
     "name": "stdout",
     "output_type": "stream",
     "text": [
      "Critical value is 9.488\n",
      "\n",
      "Reject null hypothesis at alpha=0.001 .There is relationship between martial status and employment status\n"
     ]
    }
   ],
   "source": [
    "alpha = 0.05\n",
    "p = 1-alpha\n",
    "critical = stats.chi2.ppf(p, dof)\n",
    "print(\"Critical value is\",round(critical,3))\n",
    "print(\"\\nReject null hypothesis at alpha=0.001 .There is relationship between martial status and employment status\")"
   ]
  },
  {
   "cell_type": "code",
   "execution_count": null,
   "id": "9bbefbed",
   "metadata": {},
   "outputs": [],
   "source": []
  }
 ],
 "metadata": {
  "kernelspec": {
   "display_name": "Python 3",
   "language": "python",
   "name": "python3"
  },
  "language_info": {
   "codemirror_mode": {
    "name": "ipython",
    "version": 3
   },
   "file_extension": ".py",
   "mimetype": "text/x-python",
   "name": "python",
   "nbconvert_exporter": "python",
   "pygments_lexer": "ipython3",
   "version": "3.8.8"
  }
 },
 "nbformat": 4,
 "nbformat_minor": 5
}
