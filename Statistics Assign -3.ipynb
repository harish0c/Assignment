{
 "cells": [
  {
   "cell_type": "markdown",
   "id": "dcff7f7b",
   "metadata": {},
   "source": [
    "# Problem Statement 1:\n",
    "Blood glucose levels for obese patients have a mean of 100 with a standard deviation of\n",
    "15. A researcher thinks that a diet high in raw cornstarch will have a positive effect on\n",
    "blood glucose levels. A sample of 36 patients who have tried the raw cornstarch diet\n",
    "have a mean glucose level of 108. Test the hypothesis that the raw cornstarch had an\n",
    "effect or not."
   ]
  },
  {
   "cell_type": "markdown",
   "id": "763dea59",
   "metadata": {},
   "source": [
    "##### H0: mu =100\n",
    "##### H1: mu!=100"
   ]
  },
  {
   "cell_type": "code",
   "execution_count": 1,
   "id": "49875707",
   "metadata": {},
   "outputs": [],
   "source": [
    "p_mean = 100\n",
    "p_std = 12\n",
    "n = 36\n",
    "s_mean = 108"
   ]
  },
  {
   "cell_type": "code",
   "execution_count": 2,
   "id": "a4706e78",
   "metadata": {},
   "outputs": [],
   "source": [
    "import numpy as np\n",
    "from scipy import stats"
   ]
  },
  {
   "cell_type": "code",
   "execution_count": 3,
   "id": "4efbdd99",
   "metadata": {},
   "outputs": [],
   "source": [
    "def get_zscore_1(mu,sigma,x_bar,n):\n",
    "    return (x_bar-mu)/(sigma/np.sqrt(n))"
   ]
  },
  {
   "cell_type": "code",
   "execution_count": 5,
   "id": "e8984bfe",
   "metadata": {},
   "outputs": [
    {
     "name": "stdout",
     "output_type": "stream",
     "text": [
      "Z_score is: 4.0\n"
     ]
    }
   ],
   "source": [
    "z_score = get_zscore_1(p_mean,p_std,s_mean,n)\n",
    "print(\"Z_score is:\",z_score)"
   ]
  },
  {
   "cell_type": "code",
   "execution_count": 6,
   "id": "0441c3b4",
   "metadata": {},
   "outputs": [
    {
     "name": "stdout",
     "output_type": "stream",
     "text": [
      "Critical value: 1.96\n"
     ]
    }
   ],
   "source": [
    "alpha = 0.05\n",
    "p = 1-alpha/2\n",
    "\n",
    "critical=stats.norm.ppf(abs(p))\n",
    "print(\"Critical value:\",round(critical,2))"
   ]
  },
  {
   "cell_type": "code",
   "execution_count": 7,
   "id": "cdbf074f",
   "metadata": {},
   "outputs": [
    {
     "name": "stdout",
     "output_type": "stream",
     "text": [
      "H0 rejected\n"
     ]
    }
   ],
   "source": [
    "if(abs(z_score)>critical):\n",
    "    print(\"H0 rejected\")\n",
    "else:\n",
    "    print(\"H0 accepted\")"
   ]
  },
  {
   "cell_type": "markdown",
   "id": "fcdc7996",
   "metadata": {},
   "source": [
    "# Problem Statement 2:\n",
    "In one state, 52% of the voters are Republicans, and 48% are Democrats. In a second\n",
    "state, 47% of the voters are Republicans, and 53% are Democrats. Suppose a simple\n",
    "random sample of 100 voters are surveyed from each state.\n",
    "What is the probability that the survey will show a greater percentage of Republican\n",
    "voters in the second state than in the first state?"
   ]
  },
  {
   "cell_type": "markdown",
   "id": "b157c141",
   "metadata": {},
   "source": [
    "#### H0 : p_1 >= p_2\n",
    "#### H1 : p_1<p_2 "
   ]
  },
  {
   "cell_type": "code",
   "execution_count": 8,
   "id": "ea039c62",
   "metadata": {},
   "outputs": [],
   "source": [
    "def get_zscore(p_1,p_2,n1,n2,D=0): #D = difference in population proportion\n",
    "    numerator = (p_1-p_2)-D\n",
    "    denominator = np.sqrt(p_1*(1-p_1)/n1 +p_2*(1-p_2)/n2)\n",
    "    z_value = numerator/denominator\n",
    "    return z_value"
   ]
  },
  {
   "cell_type": "code",
   "execution_count": 10,
   "id": "58645c2d",
   "metadata": {},
   "outputs": [
    {
     "name": "stdout",
     "output_type": "stream",
     "text": [
      "Z-score is: 0.7080278164104213\n"
     ]
    }
   ],
   "source": [
    "p_1 = 0.52\n",
    "p_2 = 0.47\n",
    "n1 = 100\n",
    "n2=100\n",
    "z_score = get_zscore(p_1,p_2,n1,n2)\n",
    "print(\"Z-score is:\",z_score)"
   ]
  },
  {
   "cell_type": "code",
   "execution_count": 11,
   "id": "1eaac5cb",
   "metadata": {},
   "outputs": [
    {
     "name": "stdout",
     "output_type": "stream",
     "text": [
      "the probability that the survey will show a greater percentage of Republican voters in the second state than in the first state is 0.23946399182220013\n"
     ]
    }
   ],
   "source": [
    "p_value=1 - stats.norm.cdf(abs(z_score))\n",
    "print(\"the probability that the survey will show a greater percentage of Republican voters in the second state than in the first state is {}\".format(p_value))"
   ]
  },
  {
   "cell_type": "markdown",
   "id": "ec971639",
   "metadata": {},
   "source": [
    "# Problem Statement 3:\n",
    "You take the SAT and score 1100. The mean score for the SAT is 1026 and the standard\n",
    "deviation is 209. How well did you score on the test compared to the average test taker?"
   ]
  },
  {
   "cell_type": "code",
   "execution_count": 19,
   "id": "8df7f188",
   "metadata": {},
   "outputs": [
    {
     "name": "stdout",
     "output_type": "stream",
     "text": [
      "My Score lies in the range between 817 - 1235  with a  zscore: 0.35\n"
     ]
    }
   ],
   "source": [
    "x = 1100 \n",
    "mu = 1026 # pmean\n",
    "sd = 209 #psd\n",
    "\n",
    "z_score = get_zscore_1(1026,209,1100,n=1)\n",
    "print(\"My Score lies in the range between {} - {}  with a  zscore: {:.2f}\".format(mu - sd,mu + sd,z_score))"
   ]
  },
  {
   "cell_type": "raw",
   "id": "a1b77154",
   "metadata": {},
   "source": []
  }
 ],
 "metadata": {
  "kernelspec": {
   "display_name": "Python 3",
   "language": "python",
   "name": "python3"
  },
  "language_info": {
   "codemirror_mode": {
    "name": "ipython",
    "version": 3
   },
   "file_extension": ".py",
   "mimetype": "text/x-python",
   "name": "python",
   "nbconvert_exporter": "python",
   "pygments_lexer": "ipython3",
   "version": "3.8.8"
  }
 },
 "nbformat": 4,
 "nbformat_minor": 5
}
